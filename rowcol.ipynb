{
 "cells": [
  {
   "cell_type": "code",
   "execution_count": 1,
   "id": "6e15558f",
   "metadata": {},
   "outputs": [],
   "source": [
    "import random\n",
    "import numpy as np"
   ]
  },
  {
   "cell_type": "code",
   "execution_count": 8,
   "id": "346492cf",
   "metadata": {},
   "outputs": [],
   "source": [
    "mapping={}\n",
    "for i in range(26):\n",
    "    mapping[chr(i+65)]=i"
   ]
  },
  {
   "cell_type": "code",
   "execution_count": 2,
   "id": "6baf9eec",
   "metadata": {},
   "outputs": [],
   "source": [
    "text=\"weareediscovered\"\n",
    "n_rows=4"
   ]
  },
  {
   "cell_type": "code",
   "execution_count": 15,
   "id": "6bb637cb",
   "metadata": {},
   "outputs": [],
   "source": [
    "def encrypt_row(text,n):\n",
    "    grid=makeGrid(text,n)\n",
    "    key=generatekey(n)\n",
    "    ct=\"\"\n",
    "    for row in key:\n",
    "        ct=ct + \"\".join(grid[row])\n",
    "    return ct"
   ]
  },
  {
   "cell_type": "code",
   "execution_count": 4,
   "id": "5690aeb9",
   "metadata": {},
   "outputs": [],
   "source": [
    "def makeGrid(text,n):\n",
    "    text=text.upper()\n",
    "    cols=int(len(text)/n)+1\n",
    "    pads=n*cols-len(text)\n",
    "    newtext=text+ \"\".join([np.random.choice(list(mapping.keys())) for _ in range(pads)])\n",
    "    grid=[char for char in newtext]\n",
    "    grid=np.array(grid).reshape(n,cols)\n",
    "    return grid"
   ]
  },
  {
   "cell_type": "code",
   "execution_count": 5,
   "id": "0f31ab7a",
   "metadata": {},
   "outputs": [],
   "source": [
    "def generatekey(n):\n",
    "    key=[i for i in range(n)]\n",
    "    random.shuffle(key)\n",
    "    return key"
   ]
  },
  {
   "cell_type": "code",
   "execution_count": 9,
   "id": "42a939f6",
   "metadata": {},
   "outputs": [
    {
     "data": {
      "text/plain": [
       "'OVEREWEAREEDISCDUHBO'"
      ]
     },
     "execution_count": 9,
     "metadata": {},
     "output_type": "execute_result"
    }
   ],
   "source": [
    "encrypt_row(text,n_rows)"
   ]
  },
  {
   "cell_type": "code",
   "execution_count": 11,
   "id": "8af4a922",
   "metadata": {},
   "outputs": [
    {
     "data": {
      "text/plain": [
       "array([['W', 'E', 'O', 'D'],\n",
       "       ['E', 'D', 'V', 'U'],\n",
       "       ['A', 'I', 'E', 'R'],\n",
       "       ['R', 'S', 'R', 'E'],\n",
       "       ['E', 'C', 'E', 'P']], dtype='<U1')"
      ]
     },
     "execution_count": 11,
     "metadata": {},
     "output_type": "execute_result"
    }
   ],
   "source": [
    "makeGrid(text,4).transpose()"
   ]
  },
  {
   "cell_type": "code",
   "execution_count": 20,
   "id": "308f969b",
   "metadata": {},
   "outputs": [],
   "source": [
    "text=\"weareediscovered\"\n",
    "n_cols=4"
   ]
  },
  {
   "cell_type": "code",
   "execution_count": 14,
   "id": "785f9656",
   "metadata": {},
   "outputs": [],
   "source": [
    "def encrypt_col(text,n):\n",
    "    grid=makeGrid(text,n)\n",
    "    grid=grid.transpose()\n",
    "    key=generatekey(n)\n",
    "    ct=\"\"\n",
    "    for col in key:\n",
    "        ct=ct + \"\".join(grid[col])\n",
    "    return ct"
   ]
  },
  {
   "cell_type": "code",
   "execution_count": 22,
   "id": "4122f021",
   "metadata": {},
   "outputs": [],
   "source": [
    "def makeGrid(text,n):\n",
    "    text=text.upper()\n",
    "    rows=int(len(text)/n)+1\n",
    "    pads=n*rows-len(text)\n",
    "    newtext=text+ \"\".join([np.random.choice(list(mapping.keys())) for _ in range(pads)])\n",
    "    grid=[char for char in newtext]\n",
    "    grid=np.array(grid).reshape(n,rows)\n",
    "    return grid"
   ]
  },
  {
   "cell_type": "code",
   "execution_count": 23,
   "id": "6e129e5e",
   "metadata": {},
   "outputs": [],
   "source": [
    "def generatekey(n):\n",
    "    key=[i for i in range(n)]\n",
    "    random.shuffle(key)\n",
    "    return key"
   ]
  },
  {
   "cell_type": "code",
   "execution_count": 25,
   "id": "fce576a0",
   "metadata": {},
   "outputs": [
    {
     "data": {
      "text/plain": [
       "'EDVQRSRNWEODAIEI'"
      ]
     },
     "execution_count": 25,
     "metadata": {},
     "output_type": "execute_result"
    }
   ],
   "source": [
    "encrypt_col(text,n_cols)"
   ]
  },
  {
   "cell_type": "code",
   "execution_count": null,
   "id": "e8bff9a9",
   "metadata": {},
   "outputs": [],
   "source": []
  }
 ],
 "metadata": {
  "kernelspec": {
   "display_name": "Python 3 (ipykernel)",
   "language": "python",
   "name": "python3"
  },
  "language_info": {
   "codemirror_mode": {
    "name": "ipython",
    "version": 3
   },
   "file_extension": ".py",
   "mimetype": "text/x-python",
   "name": "python",
   "nbconvert_exporter": "python",
   "pygments_lexer": "ipython3",
   "version": "3.9.12"
  }
 },
 "nbformat": 4,
 "nbformat_minor": 5
}
