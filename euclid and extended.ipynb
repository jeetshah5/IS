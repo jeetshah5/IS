{
 "cells": [
  {
   "cell_type": "code",
   "execution_count": 16,
   "id": "34dba4bc",
   "metadata": {},
   "outputs": [],
   "source": [
    "def euclid(a,b):\n",
    "    if(b==0):\n",
    "        return a\n",
    "    return euclid(b,a%b)"
   ]
  },
  {
   "cell_type": "code",
   "execution_count": 17,
   "id": "81ac481d",
   "metadata": {},
   "outputs": [
    {
     "data": {
      "text/plain": [
       "20"
      ]
     },
     "execution_count": 17,
     "metadata": {},
     "output_type": "execute_result"
    }
   ],
   "source": [
    "euclid(2740,1760)"
   ]
  },
  {
   "cell_type": "code",
   "execution_count": 18,
   "id": "3ea54c3b",
   "metadata": {},
   "outputs": [],
   "source": [
    "def extended_euclid(a,b):\n",
    "    s1=1\n",
    "    s2=0\n",
    "    t1=0\n",
    "    t2=1\n",
    "    r=a%b\n",
    "    while(r>0):\n",
    "        r=a%b\n",
    "        q=int(a/b)\n",
    "        a=b\n",
    "        b=r\n",
    "        s=s1-q*s2\n",
    "        s1=s2\n",
    "        s2=s\n",
    "        t=t1-q*t2\n",
    "        t1=t2\n",
    "        t2=t\n",
    "    return a,s1,t1\n",
    "        \n",
    "        \n",
    "        \n",
    "        "
   ]
  },
  {
   "cell_type": "markdown",
   "id": "59563aca",
   "metadata": {},
   "source": [
    "# T gives multiplicative inverse"
   ]
  },
  {
   "cell_type": "code",
   "execution_count": 19,
   "id": "c665ec19",
   "metadata": {},
   "outputs": [
    {
     "data": {
      "text/plain": [
       "(7, -1, 6)"
      ]
     },
     "execution_count": 19,
     "metadata": {},
     "output_type": "execute_result"
    }
   ],
   "source": [
    "extended_euclid(161,28)"
   ]
  },
  {
   "cell_type": "code",
   "execution_count": 20,
   "id": "6ec25145",
   "metadata": {},
   "outputs": [
    {
     "data": {
      "text/plain": [
       "(1, 3, -7)"
      ]
     },
     "execution_count": 20,
     "metadata": {},
     "output_type": "execute_result"
    }
   ],
   "source": [
    "extended_euclid(26,11)"
   ]
  },
  {
   "cell_type": "code",
   "execution_count": 21,
   "id": "dd0ccaec",
   "metadata": {},
   "outputs": [
    {
     "data": {
      "text/plain": [
       "(1, 3, -13)"
      ]
     },
     "execution_count": 21,
     "metadata": {},
     "output_type": "execute_result"
    }
   ],
   "source": [
    "extended_euclid(100,23)"
   ]
  },
  {
   "cell_type": "code",
   "execution_count": null,
   "id": "25a66682",
   "metadata": {},
   "outputs": [],
   "source": []
  }
 ],
 "metadata": {
  "kernelspec": {
   "display_name": "Python 3 (ipykernel)",
   "language": "python",
   "name": "python3"
  },
  "language_info": {
   "codemirror_mode": {
    "name": "ipython",
    "version": 3
   },
   "file_extension": ".py",
   "mimetype": "text/x-python",
   "name": "python",
   "nbconvert_exporter": "python",
   "pygments_lexer": "ipython3",
   "version": "3.9.12"
  }
 },
 "nbformat": 4,
 "nbformat_minor": 5
}
