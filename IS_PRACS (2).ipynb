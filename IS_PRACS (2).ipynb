{
 "cells": [
  {
   "cell_type": "markdown",
   "metadata": {
    "id": "9O_OxNS5-sqa"
   },
   "source": [
    "**euclidean**"
   ]
  },
  {
   "cell_type": "code",
   "execution_count": 1,
   "metadata": {
    "colab": {
     "base_uri": "https://localhost:8080/"
    },
    "id": "XbqcGE8-jgMm",
    "outputId": "8991a08b-fca6-4184-ba34-e1bb0e9641ca"
   },
   "outputs": [
    {
     "data": {
      "text/plain": [
       "2"
      ]
     },
     "execution_count": 1,
     "metadata": {},
     "output_type": "execute_result"
    }
   ],
   "source": [
    "def euc(a,b):\n",
    "  if b==0:\n",
    "    return a\n",
    "  else:\n",
    "    return euc(b,a%b)\n",
    "euc(50 ,12)"
   ]
  },
  {
   "cell_type": "markdown",
   "metadata": {
    "id": "2FjTo5sF-x6O"
   },
   "source": [
    "**extended euclidean**"
   ]
  },
  {
   "cell_type": "code",
   "execution_count": 53,
   "metadata": {
    "id": "MYQ4Qvdow7HT"
   },
   "outputs": [],
   "source": [
    "def extended_euclid(a,b):\n",
    "    s1=1\n",
    "    s2=0\n",
    "    t1=0\n",
    "    t2=1\n",
    "    r=a%b\n",
    "    while(r>0):\n",
    "        r=a%b\n",
    "        q=int(a/b)\n",
    "        a=b\n",
    "        b=r\n",
    "        s=s1-q*s2\n",
    "        s1=s2\n",
    "        s2=s\n",
    "        t=t1-q*t2\n",
    "        t1=t2\n",
    "        t2=t\n",
    "    return a,s1,t1"
   ]
  },
  {
   "cell_type": "markdown",
   "metadata": {
    "id": "fFS2VyJU6u1B"
   },
   "source": [
    "**ceasar**"
   ]
  },
  {
   "cell_type": "code",
   "execution_count": 4,
   "metadata": {
    "id": "kiHxpKlt6xDJ"
   },
   "outputs": [],
   "source": [
    "def ceasar(m,k):\n",
    "  ans=\"\"\n",
    "  for i in m:\n",
    "    if 'a'<=i<='z':\n",
    "      ans+=chr(((ord(i)-ord('a')+k)%26)+ord('a'))\n",
    "    elif 'A'<=i<='Z':\n",
    "      ans+=chr(((ord(i)-ord('A')+k)%26)+ord('A'))\n",
    "    else:\n",
    "      ans+=\" \"\n",
    "  return ans\n"
   ]
  },
  {
   "cell_type": "code",
   "execution_count": 7,
   "metadata": {
    "colab": {
     "base_uri": "https://localhost:8080/",
     "height": 35
    },
    "id": "WtXMqW5y7saS",
    "outputId": "8b166c95-8905-45d5-b11f-0077d59fed47"
   },
   "outputs": [
    {
     "data": {
      "text/plain": [
       "'khoor'"
      ]
     },
     "execution_count": 7,
     "metadata": {},
     "output_type": "execute_result"
    }
   ],
   "source": [
    "m=\"hello\"\n",
    "k=3\n",
    "ceasar(m,k)\n"
   ]
  },
  {
   "cell_type": "markdown",
   "metadata": {
    "id": "g-JL7oXO6lp7"
   },
   "source": [
    "**vernam**"
   ]
  },
  {
   "cell_type": "code",
   "execution_count": 8,
   "metadata": {
    "id": "yAH2y2HH59Ij"
   },
   "outputs": [],
   "source": [
    "def vernam(m,k):\n",
    "  m=m.upper()\n",
    "  ans=\"\"\n",
    "  for i,j in zip(m,k):\n",
    "    ans+=chr((((ord(i)-ord('A'))^(ord(j)-ord('A')))%26)+ord('A'))\n",
    "  return ans\n",
    "\n",
    "\n"
   ]
  },
  {
   "cell_type": "code",
   "execution_count": 9,
   "metadata": {
    "colab": {
     "base_uri": "https://localhost:8080/",
     "height": 35
    },
    "id": "gSl7s7OS9krW",
    "outputId": "7c64af8f-983d-4ce2-b09d-426916fc7e1c"
   },
   "outputs": [
    {
     "data": {
      "text/plain": [
       "'COH'"
      ]
     },
     "execution_count": 9,
     "metadata": {},
     "output_type": "execute_result"
    }
   ],
   "source": [
    "m=\"OAK\"\n",
    "k=\"SON\"\n",
    "vernam(m,k)"
   ]
  },
  {
   "cell_type": "markdown",
   "metadata": {
    "id": "XLN6hMQf-h0N"
   },
   "source": [
    "**brute on ceasar**"
   ]
  },
  {
   "cell_type": "code",
   "execution_count": 10,
   "metadata": {
    "id": "V-Kc20NP9s3x"
   },
   "outputs": [],
   "source": [
    "def d_ceasar(c,k):\n",
    "  ans=\"\"\n",
    "  for i in c:\n",
    "    if 'a'<=i<='z':\n",
    "      ans+=chr(((ord(i)-ord('a')-k)%26)+ord('a'))\n",
    "    elif 'A'<=i<='Z':\n",
    "      ans+=chr(((ord(i)-ord('A')-k)%26)+ord('A'))\n",
    "    else:\n",
    "      ans+=\" \"\n",
    "  return ans"
   ]
  },
  {
   "cell_type": "code",
   "execution_count": 11,
   "metadata": {
    "colab": {
     "base_uri": "https://localhost:8080/"
    },
    "id": "Px7XzyM9_JO4",
    "outputId": "426fafb9-d76f-4f4b-9604-cda2f1c0d08c"
   },
   "outputs": [
    {
     "name": "stdout",
     "output_type": "stream",
     "text": [
      "khoor\n",
      "jgnnq\n",
      "ifmmp\n",
      "hello\n",
      "gdkkn\n",
      "fcjjm\n",
      "ebiil\n",
      "dahhk\n",
      "czggj\n",
      "byffi\n",
      "axeeh\n",
      "zwddg\n",
      "yvccf\n",
      "xubbe\n",
      "wtaad\n",
      "vszzc\n",
      "uryyb\n",
      "tqxxa\n",
      "spwwz\n",
      "rovvy\n",
      "qnuux\n",
      "pmttw\n",
      "olssv\n",
      "nkrru\n",
      "mjqqt\n",
      "lipps\n"
     ]
    }
   ],
   "source": [
    "c=\"khoor\"\n",
    "for i in range(0,26):\n",
    "  k=i\n",
    "  print(d_ceasar(c,k))"
   ]
  },
  {
   "cell_type": "markdown",
   "metadata": {
    "id": "QP1_iYBUS2fP"
   },
   "source": [
    "**RAIL FENCE**"
   ]
  },
  {
   "cell_type": "code",
   "execution_count": 27,
   "metadata": {
    "id": "2I0a3KoUPhrZ"
   },
   "outputs": [],
   "source": [
    "import numpy as np\n",
    "def railfence_encrypt(text,key):\n",
    "    rows=key\n",
    "    columns=len(text)\n",
    "    matrix=np.full((rows,columns),\"*\")\n",
    "    \n",
    "    dir_down=False\n",
    "    k=0\n",
    "    current_row,current_col=0,0\n",
    "    for i in range(columns):\n",
    "        if(current_row==0 or current_row==key-1):\n",
    "            dir_down=not dir_down\n",
    "        matrix[current_row][current_col]=text[k]\n",
    "        current_col+=1\n",
    "        if(dir_down):\n",
    "            current_row+=1\n",
    "        else:\n",
    "            current_row-=1\n",
    "        k+=1\n",
    "    print(matrix)\n",
    "    encrypted=[]\n",
    "    for i in range(rows):\n",
    "        for j in range(columns):\n",
    "            if(matrix[i][j]!=\"*\"):\n",
    "                encrypted.append(matrix[i][j])\n",
    "    print(f\"Encypted message is: {encrypted}\")"
   ]
  },
  {
   "cell_type": "code",
   "execution_count": 28,
   "metadata": {
    "colab": {
     "base_uri": "https://localhost:8080/",
     "height": 35
    },
    "id": "mV3OUN4NQw6-",
    "outputId": "799235b4-22c2-4127-c9ed-5ef9dc5951a3"
   },
   "outputs": [
    {
     "name": "stdout",
     "output_type": "stream",
     "text": [
      "[['h' '*' '*' '*' 'o']\n",
      " ['*' 'e' '*' 'l' '*']\n",
      " ['*' '*' 'l' '*' '*']]\n",
      "Encypted message is: ['h', 'o', 'e', 'l', 'l']\n"
     ]
    }
   ],
   "source": [
    "railfence_encrypt(\"hello\",3)\n"
   ]
  },
  {
   "cell_type": "raw",
   "metadata": {
    "id": "qBo7KXa6jtP-"
   },
   "source": [
    "**PLAYFAIR CIPHER**"
   ]
  },
  {
   "cell_type": "code",
   "execution_count": 29,
   "metadata": {
    "id": "FvsHhy2vS_SB"
   },
   "outputs": [
    {
     "name": "stdout",
     "output_type": "stream",
     "text": [
      "Key text: MONARCHY\n",
      "Plain Text: attack\n",
      "CipherText: rssrde\n"
     ]
    }
   ],
   "source": [
    "def toLowerCase(text):\n",
    "  return text.lower()\n",
    "def removeSpaces(text):\n",
    "  newText = \"\"\n",
    "  for i in text:\n",
    "    if i == \" \":\n",
    "      continue\n",
    "    else:\n",
    "      newText = newText + i\n",
    "  return newText\n",
    "def Diagraph(text):\n",
    "  Diagraph = []\n",
    "  group = 0\n",
    "  for i in range(2, len(text), 2):\n",
    "    Diagraph.append(text[group:i])\n",
    "    group = i\n",
    "  Diagraph.append(text[group:])\n",
    "  return Diagraph\n",
    "\n",
    "def FillerLetter(text):\n",
    "  k = len(text)\n",
    "  if k % 2 == 0:\n",
    "    for i in range(0, k, 2):\n",
    "      if text[i] == text[i+1]:\n",
    "        new_word = text[0:i+1] + str('x') + text[i+1:]\n",
    "        new_word = FillerLetter(new_word)\n",
    "        break\n",
    "      else:\n",
    "        new_word = text\n",
    "  else:\n",
    "    for i in range(0, k-1, 2):\n",
    "      if text[i] == text[i+1]:\n",
    "        new_word = text[0:i+1] + str('x') + text[i+1:]\n",
    "        new_word = FillerLetter(new_word)\n",
    "        break\n",
    "      else:\n",
    "        new_word = text\n",
    "  return new_word\n",
    "list1 = ['a', 'b', 'c', 'd', 'e', 'f', 'g', 'h', 'i', 'k', 'l', 'm',\n",
    "\n",
    "    'n', 'o', 'p', 'q', 'r', 's', 't', 'u', 'v', 'w', 'x', 'y', 'z']\n",
    "\n",
    "def generateKeyTable(word, list1):\n",
    "  key_letters = []\n",
    "  for i in word:\n",
    "    if i not in key_letters:\n",
    "      key_letters.append(i)\n",
    "  compElements = []\n",
    "  for i in key_letters:\n",
    "    if i not in compElements:\n",
    "      compElements.append(i)\n",
    "  for i in list1:\n",
    "    if i not in compElements:\n",
    "      compElements.append(i)\n",
    "  matrix = []\n",
    "  while compElements != []:\n",
    "    matrix.append(compElements[:5])\n",
    "    compElements = compElements[5:]\n",
    "  return matrix\n",
    "def search(mat, element):\n",
    "  for i in range(5):\n",
    "    for j in range(5):\n",
    "      if(mat[i][j] == element):\n",
    "        return i, j\n",
    "\n",
    "def encrypt_RowRule(matr, e1r, e1c, e2r, e2c):\n",
    "  char1 = ''\n",
    "  if e1c == 4:\n",
    "    char1 = matr[e1r][0]\n",
    "  else:\n",
    "    char1 = matr[e1r][e1c+1]\n",
    "  char2 = ''\n",
    "  if e2c == 4:\n",
    "    char2 = matr[e2r][0]\n",
    "  else:\n",
    "    char2 = matr[e2r][e2c+1]\n",
    "  return char1, char2\n",
    "\n",
    "def encrypt_ColumnRule(matr, e1r, e1c, e2r, e2c):\n",
    "  char1 = ''\n",
    "  if e1r == 4:\n",
    "    char1 = matr[0][e1c]\n",
    "  else:\n",
    "    char1 = matr[e1r+1][e1c]\n",
    "  char2 = ''\n",
    "  if e2r == 4:\n",
    "    char2 = matr[0][e2c]\n",
    "  else:\n",
    "    char2 = matr[e2r+1][e2c]\n",
    "  return char1, char2\n",
    "def encrypt_RectangleRule(matr, e1r, e1c, e2r, e2c):\n",
    "  char1 = ''\n",
    "  char1 = matr[e1r][e2c]\n",
    "  char2 = ''\n",
    "  char2 = matr[e2r][e1c]\n",
    "\n",
    "  return char1, char2\n",
    "def encryptByPlayfairCipher(Matrix, plainList):\n",
    "  CipherText = []\n",
    "  for i in range(0, len(plainList)):\n",
    "    c1 = 0\n",
    "    c2 = 0\n",
    "    ele1_x, ele1_y = search(Matrix, plainList[i][0])\n",
    "    ele2_x, ele2_y = search(Matrix, plainList[i][1])\n",
    "    if ele1_x == ele2_x:\n",
    "      c1, c2 = encrypt_RowRule(Matrix, ele1_x, ele1_y, ele2_x, ele2_y)\n",
    "    elif ele1_y == ele2_y:\n",
    "      c1, c2 = encrypt_ColumnRule(Matrix, ele1_x, ele1_y, ele2_x, ele2_y)\n",
    "    else:\n",
    "      c1, c2 = encrypt_RectangleRule(\n",
    "        Matrix, ele1_x, ele1_y, ele2_x, ele2_y)\n",
    "    cipher = c1 + c2\n",
    "    CipherText.append(cipher)\n",
    "  return CipherText\n",
    "text_Plain = 'ATTACK'\n",
    "text_Plain = removeSpaces(toLowerCase(text_Plain))\n",
    "PlainTextList = Diagraph(FillerLetter(text_Plain))\n",
    "if len(PlainTextList[-1]) != 2:\n",
    "  PlainTextList[-1] = PlainTextList[-1]+'z'\n",
    "\n",
    "key = \"MONARCHY\"\n",
    "print(\"Key text:\", key)\n",
    "key = toLowerCase(key)\n",
    "Matrix = generateKeyTable(key, list1)\n",
    "\n",
    "print(\"Plain Text:\", text_Plain)\n",
    "CipherList = encryptByPlayfairCipher(Matrix, PlainTextList)\n",
    "\n",
    "CipherText = \"\"\n",
    "for i in CipherList:\n",
    "  CipherText += i\n",
    "print(\"CipherText:\", CipherText)"
   ]
  },
  {
   "cell_type": "code",
   "execution_count": null,
   "metadata": {},
   "outputs": [],
   "source": []
  },
  {
   "cell_type": "code",
   "execution_count": 30,
   "metadata": {
    "id": "_hfeO8D8TAT4"
   },
   "outputs": [
    {
     "name": "stdout",
     "output_type": "stream",
     "text": [
      "Deciphered Text: attack\n"
     ]
    }
   ],
   "source": [
    "def decryptByPlayfairCipher(Matrix, cipherList):\n",
    "    DecipherText = []\n",
    "    for i in range(0, len(cipherList)):\n",
    "        c1 = 0\n",
    "        c2 = 0\n",
    "        ele1_x, ele1_y = search(Matrix, cipherList[i][0])\n",
    "        ele2_x, ele2_y = search(Matrix, cipherList[i][1])\n",
    "\n",
    "        if ele1_x == ele2_x:\n",
    "            c1, c2 = decrypt_RowRule(Matrix, ele1_x, ele1_y, ele2_x, ele2_y)\n",
    "        elif ele1_y == ele2_y:\n",
    "            c1, c2 = decrypt_ColumnRule(Matrix, ele1_x, ele1_y, ele2_x, ele2_y)\n",
    "        else:\n",
    "            c1, c2 = decrypt_RectangleRule(\n",
    "                Matrix, ele1_x, ele1_y, ele2_x, ele2_y)\n",
    "        decipher = c1 + c2\n",
    "        DecipherText.append(decipher)\n",
    "    return DecipherText\n",
    "def decrypt_RowRule(matr, e1r, e1c, e2r, e2c):\n",
    "    char1 = ''\n",
    "    if e1c == 0:\n",
    "        char1 = matr[e1r][4]\n",
    "    else:\n",
    "        char1 = matr[e1r][e1c - 1]\n",
    "    char2 = ''\n",
    "    if e2c == 0:\n",
    "        char2 = matr[e2r][4]\n",
    "    else:\n",
    "        char2 = matr[e2r][e2c - 1]\n",
    "    return char1, char2\n",
    "def decrypt_ColumnRule(matr, e1r, e1c, e2r, e2c):\n",
    "    char1 = ''\n",
    "    if e1r == 0:\n",
    "        char1 = matr[4][e1c]\n",
    "    else:\n",
    "        char1 = matr[e1r - 1][e1c]\n",
    "    char2 = ''\n",
    "    if e2r == 0:\n",
    "        char2 = matr[4][e2c]\n",
    "    else:\n",
    "        char2 = matr[e2r - 1][e2c]\n",
    "    return char1, char2\n",
    "def decrypt_RectangleRule(matr, e1r, e1c, e2r, e2c):\n",
    "    char1 = ''\n",
    "    char1 = matr[e1r][e2c]\n",
    "    char2 = ''\n",
    "    char2 = matr[e2r][e1c]\n",
    "    return char1, char2\n",
    "Cipher_text = 'RSSRDE'\n",
    "Cipher_text = removeSpaces(toLowerCase(Cipher_text))\n",
    "CipherList = Diagraph(FillerLetter(Cipher_text))\n",
    "if len( CipherList[-1]) != 2:\n",
    "   CipherList[-1] = CipherList[-1]+'z'\n",
    "decryptedCipherList = decryptByPlayfairCipher(Matrix, CipherList)\n",
    "DecipherText = \"\"\n",
    "for i in decryptedCipherList:\n",
    "    DecipherText += i\n",
    "print(\"Deciphered Text:\", DecipherText)"
   ]
  },
  {
   "cell_type": "markdown",
   "metadata": {
    "id": "G8zenksOVsJP"
   },
   "source": [
    "**RSA**"
   ]
  },
  {
   "cell_type": "code",
   "execution_count": 38,
   "metadata": {
    "id": "QoCCl8fGSaZT"
   },
   "outputs": [
    {
     "data": {
      "text/plain": [
       "1"
      ]
     },
     "execution_count": 38,
     "metadata": {},
     "output_type": "execute_result"
    }
   ],
   "source": [
    "# def gcd(a,b):\n",
    "#   if b==0:\n",
    "#     return a\n",
    "#   else:\n",
    "#     return gcd(b,a%b)\n",
    "\n",
    "def gcd(a,b):\n",
    "    if b==0:\n",
    "        return a\n",
    "    else:\n",
    "        return gcd(b,a%b)\n",
    "gcd(5,13)\n"
   ]
  },
  {
   "cell_type": "code",
   "execution_count": 40,
   "metadata": {
    "colab": {
     "base_uri": "https://localhost:8080/"
    },
    "id": "Ud6eBfFHXAiy",
    "outputId": "e670a347-c2cc-41b5-cf39-443406cce025"
   },
   "outputs": [
    {
     "name": "stdout",
     "output_type": "stream",
     "text": [
      "Enter a prime no: 5\n",
      "Enter another prime no: 23\n",
      "3\n",
      "Enter message: 87\n",
      "13\n"
     ]
    }
   ],
   "source": [
    "# p=int(input(\"enter a prime number \"))\n",
    "# q=int(input(\"enter 2 prime number \"))\n",
    "# n=p*q\n",
    "# phi_n=(p-1)*(q-1)\n",
    "# e=2\n",
    "# while e < phi_n:\n",
    "#   if(gcd(phi_n,e)==1):\n",
    "#     break\n",
    "#   else:\n",
    "#     e=e+1\n",
    "# print(e)\n",
    "# m=int(input(\"enter the message to be encrypted \"))\n",
    "# c=pow(m,e)\n",
    "# c=c%n\n",
    "# print(c)\n",
    "\n",
    "p=int(input(\"Enter a prime no: \"))\n",
    "q=int(input(\"Enter another prime no: \"))\n",
    "n=p*q\n",
    "phi=(p-1)*(q-1)\n",
    "e=2\n",
    "while e<phi:\n",
    "    if(gcd(phi,e)==1):\n",
    "        break\n",
    "    else:\n",
    "        e=e+1\n",
    "print(e)\n",
    "m=int(input(\"Enter message: \"))\n",
    "d=pow(m,e)\n",
    "d=d%n\n",
    "print(d)\n"
   ]
  },
  {
   "cell_type": "markdown",
   "metadata": {
    "id": "RgSMNfMBa15O"
   },
   "source": [
    "**RSA WITH DIGITAL**"
   ]
  },
  {
   "cell_type": "code",
   "execution_count": 69,
   "metadata": {
    "colab": {
     "base_uri": "https://localhost:8080/"
    },
    "id": "SQzCBpkjYEhk",
    "outputId": "77ab283d-c800-40e8-cb16-12c34599f9f4"
   },
   "outputs": [
    {
     "name": "stdout",
     "output_type": "stream",
     "text": [
      "enter a prime number 53\n",
      "enter 2 prime number 59\n",
      "3\n",
      "enter the message to be encrypted 89\n",
      "message decrypted is 1394\n",
      "2011\n",
      "message decrypted back just to check value of d 89\n",
      "digital signature 545\n"
     ]
    }
   ],
   "source": [
    "p=int(input(\"enter a prime number \"))\n",
    "q=int(input(\"enter 2 prime number \"))\n",
    "n=p*q\n",
    "phi_n=(p-1)*(q-1)\n",
    "e=2\n",
    "while e < phi_n:\n",
    "  if(gcd(phi_n,e)==1):\n",
    "    break\n",
    "  else:\n",
    "    e=e+1\n",
    "print(e)\n",
    "m=int(input(\"enter the message to be encrypted \"))\n",
    "c=pow(m,e)\n",
    "c=c%n\n",
    "print(\"message decrypted is \"+str(c))\n",
    "\n",
    "def extended(n,b,t1,t2):\n",
    "  if b==1:\n",
    "    return t2\n",
    "  else:\n",
    "    q=n//b\n",
    "    r=n%b\n",
    "    t3=t1-t2*q\n",
    "    return extended(b,r,t2,t3)\n",
    "d=extended(phi_n,e,0,1)\n",
    "if d<0:\n",
    "  d=d+phi_n\n",
    "print(d)\n",
    "dec=pow(c,d)%n\n",
    "print(\"message decrypted back just to check value of d \" + str(dec))\n",
    "mess=pow(hash(m),d)%n\n",
    "print(\"digital signature \"+str(mess))\n"
   ]
  },
  {
   "cell_type": "markdown",
   "metadata": {
    "id": "xemwo0mgYh-G"
   },
   "source": [
    "**Deffie-Helman**"
   ]
  },
  {
   "cell_type": "code",
   "execution_count": 33,
   "metadata": {
    "colab": {
     "base_uri": "https://localhost:8080/"
    },
    "id": "4XWPW3amzOaj",
    "outputId": "50cad1e6-6078-4809-bd45-cc1de6f5ab85"
   },
   "outputs": [
    {
     "name": "stdout",
     "output_type": "stream",
     "text": [
      "enter the number 1: 15\n",
      "enter the number 2: 8\n",
      "success!\n",
      "1\n",
      "1\n"
     ]
    }
   ],
   "source": [
    "p=7\n",
    "g=5\n",
    "x1,x2=int(input(\"enter the number 1: \")), int(input(\"enter the number 2: \"))\n",
    "a,b=pow(3,x1)%p,pow(3,x2)%p\n",
    "k1,k2=pow(b,x1)%p,pow(a,x2)%p\n",
    "if k1==k2:\n",
    "  print(\"success!\")\n",
    "else:\n",
    "  print(\"try again!\")\n",
    "print(k1)\n",
    "print(k2)\n",
    "\n"
   ]
  },
  {
   "cell_type": "code",
   "execution_count": 36,
   "metadata": {},
   "outputs": [
    {
     "name": "stdout",
     "output_type": "stream",
     "text": [
      "Enter no 1: 7\n",
      "Enter no 2: 7\n",
      "Success\n",
      "3\n",
      "3\n"
     ]
    }
   ],
   "source": [
    "p=7\n",
    "g=5\n",
    "x1,x2=int(input(\"Enter no 1: \")),int(input(\"Enter no 2: \"))\n",
    "a=pow(3,x1)%p\n",
    "b=pow(3,x2)%p\n",
    "k1=pow(b,x1)%p\n",
    "k2=pow(b,x2)%p\n",
    "if k1==k2:\n",
    "    print(\"Success\")\n",
    "else:\n",
    "    print(\"Try again\")\n",
    "print(k1)\n",
    "print(k2)"
   ]
  },
  {
   "cell_type": "code",
   "execution_count": 42,
   "metadata": {},
   "outputs": [],
   "source": [
    "import numpy as np\n",
    "import math"
   ]
  },
  {
   "cell_type": "code",
   "execution_count": 43,
   "metadata": {},
   "outputs": [],
   "source": [
    "def is_prime(a):\n",
    "    flag=False\n",
    "    for i in range(2,int(math.sqrt(a))+1):\n",
    "        if(a%i==0):\n",
    "            flag=True\n",
    "            break;\n",
    "    if(flag):\n",
    "        return False\n",
    "    return True"
   ]
  },
  {
   "cell_type": "code",
   "execution_count": 44,
   "metadata": {},
   "outputs": [],
   "source": [
    "def find_large_prime():\n",
    "    prime=[]\n",
    "    while(len(prime)<1):\n",
    "        a=np.random.randint(100,1000)\n",
    "        if(is_prime(a)):\n",
    "            return a\n",
    "    return -1"
   ]
  },
  {
   "cell_type": "code",
   "execution_count": 45,
   "metadata": {},
   "outputs": [],
   "source": [
    "def find_primitive(a): \n",
    "    for i in range(2,a):\n",
    "        rems=[]\n",
    "        for j in range(a-1):\n",
    "            rems.append((i**j)%a)\n",
    "        if(len(set(rems))==len(rems)):\n",
    "            return i\n",
    "    return -1"
   ]
  },
  {
   "cell_type": "code",
   "execution_count": 46,
   "metadata": {},
   "outputs": [],
   "source": [
    "def calc_shared_key(a,b):\n",
    "    #n=find_large_prime()\n",
    "    n=353\n",
    "    g=find_primitive(n)\n",
    "    public_a=(g**a)%n\n",
    "    public_b=(g**b)%n\n",
    "    print(f\"public keys are :{public_a},{public_b}\")\n",
    "    private_a=(public_b**a)%n\n",
    "    private_b=(public_a**b)%n\n",
    "    print(f\"shared key is :{private_b},{private_b}\")"
   ]
  },
  {
   "cell_type": "code",
   "execution_count": 47,
   "metadata": {},
   "outputs": [
    {
     "name": "stdout",
     "output_type": "stream",
     "text": [
      "public keys are :40,248\n",
      "shared key is :160,160\n"
     ]
    }
   ],
   "source": [
    "calc_shared_key(97,233)\n"
   ]
  },
  {
   "cell_type": "code",
   "execution_count": 48,
   "metadata": {},
   "outputs": [],
   "source": [
    "def man_in_the_middle(private_a,private_b,private_attacker):\n",
    "    n=find_large_prime()\n",
    "    g=find_primitive(n)\n",
    "    public_a=(g**private_a)%n\n",
    "    public_attacker=(g**private_attacker)%n\n",
    "    public_b=(g**private_b)%n\n",
    "    print(\"attacker intercepts the public keys\")\n",
    "    print(\"A gets public_attacker and thinks it is public key of B \")\n",
    "    shared_key_a_attacker=(public_attacker**private_a)%n\n",
    "    shared_key_attacker_a=(public_a**private_attacker)%n\n",
    "    print(f\"shared key between A and attacker is : {shared_key_a_attacker}  {shared_key_attacker_a}\")\n",
    "    print(\"\\n\")\n",
    "    print(\"B gets public_attacker and thinks it is public key of A \")\n",
    "    shared_key_b_attacker=(public_attacker**private_b)%n\n",
    "    shared_key_attacker_b=(public_b**private_attacker)%n\n",
    "    print(f\"shared key between A and attacker is : {shared_key_b_attacker}  {shared_key_attacker_b}\")"
   ]
  },
  {
   "cell_type": "code",
   "execution_count": 49,
   "metadata": {},
   "outputs": [
    {
     "name": "stdout",
     "output_type": "stream",
     "text": [
      "attacker intercepts the public keys\n",
      "A gets public_attacker and thinks it is public key of B \n",
      "shared key between A and attacker is : 133  133\n",
      "\n",
      "\n",
      "B gets public_attacker and thinks it is public key of A \n",
      "shared key between A and attacker is : 181  181\n"
     ]
    }
   ],
   "source": [
    "man_in_the_middle(34,56,43)"
   ]
  },
  {
   "cell_type": "code",
   "execution_count": null,
   "metadata": {},
   "outputs": [],
   "source": []
  }
 ],
 "metadata": {
  "colab": {
   "provenance": []
  },
  "kernelspec": {
   "display_name": "Python 3 (ipykernel)",
   "language": "python",
   "name": "python3"
  },
  "language_info": {
   "codemirror_mode": {
    "name": "ipython",
    "version": 3
   },
   "file_extension": ".py",
   "mimetype": "text/x-python",
   "name": "python",
   "nbconvert_exporter": "python",
   "pygments_lexer": "ipython3",
   "version": "3.9.12"
  }
 },
 "nbformat": 4,
 "nbformat_minor": 1
}
